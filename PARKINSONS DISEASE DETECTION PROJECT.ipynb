{
 "cells": [
  {
   "cell_type": "markdown",
   "id": "264daa4c",
   "metadata": {},
   "source": [
    "# Parkinsons Disease Detection Using Machine Learning Models"
   ]
  },
  {
   "cell_type": "markdown",
   "id": "7f3be59b",
   "metadata": {},
   "source": [
    "- By S.Abishek \n",
    "- AP19110010087 CSE D"
   ]
  },
  {
   "cell_type": "markdown",
   "id": "a8613920",
   "metadata": {},
   "source": [
    ">Dataset - https://archive.ics.uci.edu/ml/datasets/parkinsons"
   ]
  },
  {
   "cell_type": "markdown",
   "id": "4e5d799f",
   "metadata": {},
   "source": [
    "### Dataset Information:\n",
    "\n",
    "This dataset is composed of a range of biomedical voice measurements from 31 people, 23 with Parkinson's disease (PD). Each column in the table is a particular voice measure, and each row corresponds to one of 195 voice recordings from these individuals (\"name\" column). The main aim of the data is to discriminate healthy people from those with PD, according to the \"status\" column which is set to 0 for healthy and 1 for PD."
   ]
  },
  {
   "cell_type": "markdown",
   "id": "c1d557af",
   "metadata": {},
   "source": [
    "### Attribute Information:\n",
    "\n",
    "`\n",
    " Name - ASCII subject name and recording number\n",
    " MDVP:Fo(Hz) - Average vocal fundamental frequency\n",
    " MDVP:Fhi(Hz) - Maximum vocal fundamental frequency\n",
    " MDVP:Flo(Hz) - Minimum vocal fundamental frequency\n",
    " MDVP:Jitter(%),MDVP:Jitter(Abs),MDVP:RAP,MDVP:PPQ,Jitter:DDP - Several measures of variation in fundamental frequency\n",
    " MDVP:Shimmer,MDVP:Shimmer(dB),Shimmer:APQ3,Shimmer:APQ5,MDVP:APQ,Shimmer:DDA - Several measures of variation in amplitude\n",
    " NHR,HNR - Two measures of ratio of noise to tonal components in the voice\n",
    " status - Health status of the subject (one) - Parkinson's, (zero) - healthy\n",
    " RPDE,D2 - Two nonlinear dynamical complexity measures\n",
    " DFA - Signal fractal scaling exponent\n",
    " spread1,spread2,PPE - Three nonlinear measures of fundamental frequency variation `"
   ]
  },
  {
   "cell_type": "markdown",
   "id": "c2032177",
   "metadata": {},
   "source": [
    "## Importing Dependencies\n"
   ]
  },
  {
   "cell_type": "code",
   "execution_count": 1,
   "id": "bd36a335",
   "metadata": {},
   "outputs": [],
   "source": [
    "import numpy as np\n",
    "import pandas as pd\n",
    "import matplotlib.pyplot as plt\n",
    "%matplotlib inline\n",
    "import seaborn as sn\n",
    "import warnings\n",
    "warnings.filterwarnings('ignore')"
   ]
  },
  {
   "cell_type": "markdown",
   "id": "098fd860",
   "metadata": {},
   "source": [
    "### Data Collection - Reading Dataset"
   ]
  },
  {
   "cell_type": "code",
   "execution_count": 2,
   "id": "87d0a01f",
   "metadata": {},
   "outputs": [],
   "source": [
    "# loading the data from csv file to a Pandas DataFrame\n",
    "df = pd.read_csv(\"parkinsons.csv\")\n"
   ]
  },
  {
   "cell_type": "code",
   "execution_count": 3,
   "id": "96f4e04f",
   "metadata": {},
   "outputs": [
    {
     "data": {
      "text/html": [
       "<div>\n",
       "<style scoped>\n",
       "    .dataframe tbody tr th:only-of-type {\n",
       "        vertical-align: middle;\n",
       "    }\n",
       "\n",
       "    .dataframe tbody tr th {\n",
       "        vertical-align: top;\n",
       "    }\n",
       "\n",
       "    .dataframe thead th {\n",
       "        text-align: right;\n",
       "    }\n",
       "</style>\n",
       "<table border=\"1\" class=\"dataframe\">\n",
       "  <thead>\n",
       "    <tr style=\"text-align: right;\">\n",
       "      <th></th>\n",
       "      <th>name</th>\n",
       "      <th>MDVP:Fo(Hz)</th>\n",
       "      <th>MDVP:Fhi(Hz)</th>\n",
       "      <th>MDVP:Flo(Hz)</th>\n",
       "      <th>MDVP:Jitter(%)</th>\n",
       "      <th>MDVP:Jitter(Abs)</th>\n",
       "      <th>MDVP:RAP</th>\n",
       "      <th>MDVP:PPQ</th>\n",
       "      <th>Jitter:DDP</th>\n",
       "      <th>MDVP:Shimmer</th>\n",
       "      <th>...</th>\n",
       "      <th>Shimmer:DDA</th>\n",
       "      <th>NHR</th>\n",
       "      <th>HNR</th>\n",
       "      <th>status</th>\n",
       "      <th>RPDE</th>\n",
       "      <th>DFA</th>\n",
       "      <th>spread1</th>\n",
       "      <th>spread2</th>\n",
       "      <th>D2</th>\n",
       "      <th>PPE</th>\n",
       "    </tr>\n",
       "  </thead>\n",
       "  <tbody>\n",
       "    <tr>\n",
       "      <th>0</th>\n",
       "      <td>phon_R01_S01_1</td>\n",
       "      <td>119.992</td>\n",
       "      <td>157.302</td>\n",
       "      <td>74.997</td>\n",
       "      <td>0.00784</td>\n",
       "      <td>0.00007</td>\n",
       "      <td>0.00370</td>\n",
       "      <td>0.00554</td>\n",
       "      <td>0.01109</td>\n",
       "      <td>0.04374</td>\n",
       "      <td>...</td>\n",
       "      <td>0.06545</td>\n",
       "      <td>0.02211</td>\n",
       "      <td>21.033</td>\n",
       "      <td>1</td>\n",
       "      <td>0.414783</td>\n",
       "      <td>0.815285</td>\n",
       "      <td>-4.813031</td>\n",
       "      <td>0.266482</td>\n",
       "      <td>2.301442</td>\n",
       "      <td>0.284654</td>\n",
       "    </tr>\n",
       "    <tr>\n",
       "      <th>1</th>\n",
       "      <td>phon_R01_S01_2</td>\n",
       "      <td>122.400</td>\n",
       "      <td>148.650</td>\n",
       "      <td>113.819</td>\n",
       "      <td>0.00968</td>\n",
       "      <td>0.00008</td>\n",
       "      <td>0.00465</td>\n",
       "      <td>0.00696</td>\n",
       "      <td>0.01394</td>\n",
       "      <td>0.06134</td>\n",
       "      <td>...</td>\n",
       "      <td>0.09403</td>\n",
       "      <td>0.01929</td>\n",
       "      <td>19.085</td>\n",
       "      <td>1</td>\n",
       "      <td>0.458359</td>\n",
       "      <td>0.819521</td>\n",
       "      <td>-4.075192</td>\n",
       "      <td>0.335590</td>\n",
       "      <td>2.486855</td>\n",
       "      <td>0.368674</td>\n",
       "    </tr>\n",
       "    <tr>\n",
       "      <th>2</th>\n",
       "      <td>phon_R01_S01_3</td>\n",
       "      <td>116.682</td>\n",
       "      <td>131.111</td>\n",
       "      <td>111.555</td>\n",
       "      <td>0.01050</td>\n",
       "      <td>0.00009</td>\n",
       "      <td>0.00544</td>\n",
       "      <td>0.00781</td>\n",
       "      <td>0.01633</td>\n",
       "      <td>0.05233</td>\n",
       "      <td>...</td>\n",
       "      <td>0.08270</td>\n",
       "      <td>0.01309</td>\n",
       "      <td>20.651</td>\n",
       "      <td>1</td>\n",
       "      <td>0.429895</td>\n",
       "      <td>0.825288</td>\n",
       "      <td>-4.443179</td>\n",
       "      <td>0.311173</td>\n",
       "      <td>2.342259</td>\n",
       "      <td>0.332634</td>\n",
       "    </tr>\n",
       "    <tr>\n",
       "      <th>3</th>\n",
       "      <td>phon_R01_S01_4</td>\n",
       "      <td>116.676</td>\n",
       "      <td>137.871</td>\n",
       "      <td>111.366</td>\n",
       "      <td>0.00997</td>\n",
       "      <td>0.00009</td>\n",
       "      <td>0.00502</td>\n",
       "      <td>0.00698</td>\n",
       "      <td>0.01505</td>\n",
       "      <td>0.05492</td>\n",
       "      <td>...</td>\n",
       "      <td>0.08771</td>\n",
       "      <td>0.01353</td>\n",
       "      <td>20.644</td>\n",
       "      <td>1</td>\n",
       "      <td>0.434969</td>\n",
       "      <td>0.819235</td>\n",
       "      <td>-4.117501</td>\n",
       "      <td>0.334147</td>\n",
       "      <td>2.405554</td>\n",
       "      <td>0.368975</td>\n",
       "    </tr>\n",
       "    <tr>\n",
       "      <th>4</th>\n",
       "      <td>phon_R01_S01_5</td>\n",
       "      <td>116.014</td>\n",
       "      <td>141.781</td>\n",
       "      <td>110.655</td>\n",
       "      <td>0.01284</td>\n",
       "      <td>0.00011</td>\n",
       "      <td>0.00655</td>\n",
       "      <td>0.00908</td>\n",
       "      <td>0.01966</td>\n",
       "      <td>0.06425</td>\n",
       "      <td>...</td>\n",
       "      <td>0.10470</td>\n",
       "      <td>0.01767</td>\n",
       "      <td>19.649</td>\n",
       "      <td>1</td>\n",
       "      <td>0.417356</td>\n",
       "      <td>0.823484</td>\n",
       "      <td>-3.747787</td>\n",
       "      <td>0.234513</td>\n",
       "      <td>2.332180</td>\n",
       "      <td>0.410335</td>\n",
       "    </tr>\n",
       "  </tbody>\n",
       "</table>\n",
       "<p>5 rows × 24 columns</p>\n",
       "</div>"
      ],
      "text/plain": [
       "             name  MDVP:Fo(Hz)  MDVP:Fhi(Hz)  MDVP:Flo(Hz)  MDVP:Jitter(%)  \\\n",
       "0  phon_R01_S01_1      119.992       157.302        74.997         0.00784   \n",
       "1  phon_R01_S01_2      122.400       148.650       113.819         0.00968   \n",
       "2  phon_R01_S01_3      116.682       131.111       111.555         0.01050   \n",
       "3  phon_R01_S01_4      116.676       137.871       111.366         0.00997   \n",
       "4  phon_R01_S01_5      116.014       141.781       110.655         0.01284   \n",
       "\n",
       "   MDVP:Jitter(Abs)  MDVP:RAP  MDVP:PPQ  Jitter:DDP  MDVP:Shimmer  ...  \\\n",
       "0           0.00007   0.00370   0.00554     0.01109       0.04374  ...   \n",
       "1           0.00008   0.00465   0.00696     0.01394       0.06134  ...   \n",
       "2           0.00009   0.00544   0.00781     0.01633       0.05233  ...   \n",
       "3           0.00009   0.00502   0.00698     0.01505       0.05492  ...   \n",
       "4           0.00011   0.00655   0.00908     0.01966       0.06425  ...   \n",
       "\n",
       "   Shimmer:DDA      NHR     HNR  status      RPDE       DFA   spread1  \\\n",
       "0      0.06545  0.02211  21.033       1  0.414783  0.815285 -4.813031   \n",
       "1      0.09403  0.01929  19.085       1  0.458359  0.819521 -4.075192   \n",
       "2      0.08270  0.01309  20.651       1  0.429895  0.825288 -4.443179   \n",
       "3      0.08771  0.01353  20.644       1  0.434969  0.819235 -4.117501   \n",
       "4      0.10470  0.01767  19.649       1  0.417356  0.823484 -3.747787   \n",
       "\n",
       "    spread2        D2       PPE  \n",
       "0  0.266482  2.301442  0.284654  \n",
       "1  0.335590  2.486855  0.368674  \n",
       "2  0.311173  2.342259  0.332634  \n",
       "3  0.334147  2.405554  0.368975  \n",
       "4  0.234513  2.332180  0.410335  \n",
       "\n",
       "[5 rows x 24 columns]"
      ]
     },
     "execution_count": 3,
     "metadata": {},
     "output_type": "execute_result"
    }
   ],
   "source": [
    "# printing the first 5 rows of the dataframe\n",
    "df.head()"
   ]
  },
  {
   "cell_type": "code",
   "execution_count": 4,
   "id": "ec9a71e5",
   "metadata": {},
   "outputs": [
    {
     "data": {
      "text/plain": [
       "Index(['name', 'MDVP:Fo(Hz)', 'MDVP:Fhi(Hz)', 'MDVP:Flo(Hz)', 'MDVP:Jitter(%)',\n",
       "       'MDVP:Jitter(Abs)', 'MDVP:RAP', 'MDVP:PPQ', 'Jitter:DDP',\n",
       "       'MDVP:Shimmer', 'MDVP:Shimmer(dB)', 'Shimmer:APQ3', 'Shimmer:APQ5',\n",
       "       'MDVP:APQ', 'Shimmer:DDA', 'NHR', 'HNR', 'status', 'RPDE', 'DFA',\n",
       "       'spread1', 'spread2', 'D2', 'PPE'],\n",
       "      dtype='object')"
      ]
     },
     "execution_count": 4,
     "metadata": {},
     "output_type": "execute_result"
    }
   ],
   "source": [
    "df.columns"
   ]
  },
  {
   "cell_type": "code",
   "execution_count": 5,
   "id": "3e919e63",
   "metadata": {},
   "outputs": [
    {
     "data": {
      "text/plain": [
       "(195, 24)"
      ]
     },
     "execution_count": 5,
     "metadata": {},
     "output_type": "execute_result"
    }
   ],
   "source": [
    "df.shape"
   ]
  },
  {
   "cell_type": "markdown",
   "id": "d406af9d",
   "metadata": {},
   "source": [
    "### Check for Missing Data"
   ]
  },
  {
   "cell_type": "code",
   "execution_count": 6,
   "id": "c48d33ee",
   "metadata": {
    "scrolled": true
   },
   "outputs": [
    {
     "name": "stdout",
     "output_type": "stream",
     "text": [
      "<class 'pandas.core.frame.DataFrame'>\n",
      "RangeIndex: 195 entries, 0 to 194\n",
      "Data columns (total 24 columns):\n",
      " #   Column            Non-Null Count  Dtype  \n",
      "---  ------            --------------  -----  \n",
      " 0   name              195 non-null    object \n",
      " 1   MDVP:Fo(Hz)       195 non-null    float64\n",
      " 2   MDVP:Fhi(Hz)      195 non-null    float64\n",
      " 3   MDVP:Flo(Hz)      195 non-null    float64\n",
      " 4   MDVP:Jitter(%)    195 non-null    float64\n",
      " 5   MDVP:Jitter(Abs)  195 non-null    float64\n",
      " 6   MDVP:RAP          195 non-null    float64\n",
      " 7   MDVP:PPQ          195 non-null    float64\n",
      " 8   Jitter:DDP        195 non-null    float64\n",
      " 9   MDVP:Shimmer      195 non-null    float64\n",
      " 10  MDVP:Shimmer(dB)  195 non-null    float64\n",
      " 11  Shimmer:APQ3      195 non-null    float64\n",
      " 12  Shimmer:APQ5      195 non-null    float64\n",
      " 13  MDVP:APQ          195 non-null    float64\n",
      " 14  Shimmer:DDA       195 non-null    float64\n",
      " 15  NHR               195 non-null    float64\n",
      " 16  HNR               195 non-null    float64\n",
      " 17  status            195 non-null    int64  \n",
      " 18  RPDE              195 non-null    float64\n",
      " 19  DFA               195 non-null    float64\n",
      " 20  spread1           195 non-null    float64\n",
      " 21  spread2           195 non-null    float64\n",
      " 22  D2                195 non-null    float64\n",
      " 23  PPE               195 non-null    float64\n",
      "dtypes: float64(22), int64(1), object(1)\n",
      "memory usage: 36.7+ KB\n"
     ]
    }
   ],
   "source": [
    "# Prints a concise summary of the DataFrame \n",
    "df.info()"
   ]
  },
  {
   "cell_type": "code",
   "execution_count": 7,
   "id": "1db7ad5c",
   "metadata": {},
   "outputs": [
    {
     "data": {
      "text/plain": [
       "name                0\n",
       "MDVP:Fo(Hz)         0\n",
       "MDVP:Fhi(Hz)        0\n",
       "MDVP:Flo(Hz)        0\n",
       "MDVP:Jitter(%)      0\n",
       "MDVP:Jitter(Abs)    0\n",
       "MDVP:RAP            0\n",
       "MDVP:PPQ            0\n",
       "Jitter:DDP          0\n",
       "MDVP:Shimmer        0\n",
       "MDVP:Shimmer(dB)    0\n",
       "Shimmer:APQ3        0\n",
       "Shimmer:APQ5        0\n",
       "MDVP:APQ            0\n",
       "Shimmer:DDA         0\n",
       "NHR                 0\n",
       "HNR                 0\n",
       "status              0\n",
       "RPDE                0\n",
       "DFA                 0\n",
       "spread1             0\n",
       "spread2             0\n",
       "D2                  0\n",
       "PPE                 0\n",
       "dtype: int64"
      ]
     },
     "execution_count": 7,
     "metadata": {},
     "output_type": "execute_result"
    }
   ],
   "source": [
    "# Checking for missing values in each column\n",
    "df.isnull().sum()"
   ]
  },
  {
   "cell_type": "markdown",
   "id": "21bee889",
   "metadata": {},
   "source": [
    "## Explanatory Data Analysis"
   ]
  },
  {
   "cell_type": "markdown",
   "id": "2b4f7bd9",
   "metadata": {},
   "source": [
    "Statistical measures"
   ]
  },
  {
   "cell_type": "code",
   "execution_count": 8,
   "id": "f2d1ce6e",
   "metadata": {},
   "outputs": [
    {
     "data": {
      "text/html": [
       "<div>\n",
       "<style scoped>\n",
       "    .dataframe tbody tr th:only-of-type {\n",
       "        vertical-align: middle;\n",
       "    }\n",
       "\n",
       "    .dataframe tbody tr th {\n",
       "        vertical-align: top;\n",
       "    }\n",
       "\n",
       "    .dataframe thead th {\n",
       "        text-align: right;\n",
       "    }\n",
       "</style>\n",
       "<table border=\"1\" class=\"dataframe\">\n",
       "  <thead>\n",
       "    <tr style=\"text-align: right;\">\n",
       "      <th></th>\n",
       "      <th>MDVP:Fo(Hz)</th>\n",
       "      <th>MDVP:Fhi(Hz)</th>\n",
       "      <th>MDVP:Flo(Hz)</th>\n",
       "      <th>MDVP:Jitter(%)</th>\n",
       "      <th>MDVP:Jitter(Abs)</th>\n",
       "      <th>MDVP:RAP</th>\n",
       "      <th>MDVP:PPQ</th>\n",
       "      <th>Jitter:DDP</th>\n",
       "      <th>MDVP:Shimmer</th>\n",
       "      <th>MDVP:Shimmer(dB)</th>\n",
       "      <th>...</th>\n",
       "      <th>Shimmer:DDA</th>\n",
       "      <th>NHR</th>\n",
       "      <th>HNR</th>\n",
       "      <th>status</th>\n",
       "      <th>RPDE</th>\n",
       "      <th>DFA</th>\n",
       "      <th>spread1</th>\n",
       "      <th>spread2</th>\n",
       "      <th>D2</th>\n",
       "      <th>PPE</th>\n",
       "    </tr>\n",
       "  </thead>\n",
       "  <tbody>\n",
       "    <tr>\n",
       "      <th>count</th>\n",
       "      <td>195.000000</td>\n",
       "      <td>195.000000</td>\n",
       "      <td>195.000000</td>\n",
       "      <td>195.000000</td>\n",
       "      <td>195.000000</td>\n",
       "      <td>195.000000</td>\n",
       "      <td>195.000000</td>\n",
       "      <td>195.000000</td>\n",
       "      <td>195.000000</td>\n",
       "      <td>195.000000</td>\n",
       "      <td>...</td>\n",
       "      <td>195.000000</td>\n",
       "      <td>195.000000</td>\n",
       "      <td>195.000000</td>\n",
       "      <td>195.000000</td>\n",
       "      <td>195.000000</td>\n",
       "      <td>195.000000</td>\n",
       "      <td>195.000000</td>\n",
       "      <td>195.000000</td>\n",
       "      <td>195.000000</td>\n",
       "      <td>195.000000</td>\n",
       "    </tr>\n",
       "    <tr>\n",
       "      <th>mean</th>\n",
       "      <td>154.228641</td>\n",
       "      <td>197.104918</td>\n",
       "      <td>116.324631</td>\n",
       "      <td>0.006220</td>\n",
       "      <td>0.000044</td>\n",
       "      <td>0.003306</td>\n",
       "      <td>0.003446</td>\n",
       "      <td>0.009920</td>\n",
       "      <td>0.029709</td>\n",
       "      <td>0.282251</td>\n",
       "      <td>...</td>\n",
       "      <td>0.046993</td>\n",
       "      <td>0.024847</td>\n",
       "      <td>21.885974</td>\n",
       "      <td>0.753846</td>\n",
       "      <td>0.498536</td>\n",
       "      <td>0.718099</td>\n",
       "      <td>-5.684397</td>\n",
       "      <td>0.226510</td>\n",
       "      <td>2.381826</td>\n",
       "      <td>0.206552</td>\n",
       "    </tr>\n",
       "    <tr>\n",
       "      <th>std</th>\n",
       "      <td>41.390065</td>\n",
       "      <td>91.491548</td>\n",
       "      <td>43.521413</td>\n",
       "      <td>0.004848</td>\n",
       "      <td>0.000035</td>\n",
       "      <td>0.002968</td>\n",
       "      <td>0.002759</td>\n",
       "      <td>0.008903</td>\n",
       "      <td>0.018857</td>\n",
       "      <td>0.194877</td>\n",
       "      <td>...</td>\n",
       "      <td>0.030459</td>\n",
       "      <td>0.040418</td>\n",
       "      <td>4.425764</td>\n",
       "      <td>0.431878</td>\n",
       "      <td>0.103942</td>\n",
       "      <td>0.055336</td>\n",
       "      <td>1.090208</td>\n",
       "      <td>0.083406</td>\n",
       "      <td>0.382799</td>\n",
       "      <td>0.090119</td>\n",
       "    </tr>\n",
       "    <tr>\n",
       "      <th>min</th>\n",
       "      <td>88.333000</td>\n",
       "      <td>102.145000</td>\n",
       "      <td>65.476000</td>\n",
       "      <td>0.001680</td>\n",
       "      <td>0.000007</td>\n",
       "      <td>0.000680</td>\n",
       "      <td>0.000920</td>\n",
       "      <td>0.002040</td>\n",
       "      <td>0.009540</td>\n",
       "      <td>0.085000</td>\n",
       "      <td>...</td>\n",
       "      <td>0.013640</td>\n",
       "      <td>0.000650</td>\n",
       "      <td>8.441000</td>\n",
       "      <td>0.000000</td>\n",
       "      <td>0.256570</td>\n",
       "      <td>0.574282</td>\n",
       "      <td>-7.964984</td>\n",
       "      <td>0.006274</td>\n",
       "      <td>1.423287</td>\n",
       "      <td>0.044539</td>\n",
       "    </tr>\n",
       "    <tr>\n",
       "      <th>25%</th>\n",
       "      <td>117.572000</td>\n",
       "      <td>134.862500</td>\n",
       "      <td>84.291000</td>\n",
       "      <td>0.003460</td>\n",
       "      <td>0.000020</td>\n",
       "      <td>0.001660</td>\n",
       "      <td>0.001860</td>\n",
       "      <td>0.004985</td>\n",
       "      <td>0.016505</td>\n",
       "      <td>0.148500</td>\n",
       "      <td>...</td>\n",
       "      <td>0.024735</td>\n",
       "      <td>0.005925</td>\n",
       "      <td>19.198000</td>\n",
       "      <td>1.000000</td>\n",
       "      <td>0.421306</td>\n",
       "      <td>0.674758</td>\n",
       "      <td>-6.450096</td>\n",
       "      <td>0.174351</td>\n",
       "      <td>2.099125</td>\n",
       "      <td>0.137451</td>\n",
       "    </tr>\n",
       "    <tr>\n",
       "      <th>50%</th>\n",
       "      <td>148.790000</td>\n",
       "      <td>175.829000</td>\n",
       "      <td>104.315000</td>\n",
       "      <td>0.004940</td>\n",
       "      <td>0.000030</td>\n",
       "      <td>0.002500</td>\n",
       "      <td>0.002690</td>\n",
       "      <td>0.007490</td>\n",
       "      <td>0.022970</td>\n",
       "      <td>0.221000</td>\n",
       "      <td>...</td>\n",
       "      <td>0.038360</td>\n",
       "      <td>0.011660</td>\n",
       "      <td>22.085000</td>\n",
       "      <td>1.000000</td>\n",
       "      <td>0.495954</td>\n",
       "      <td>0.722254</td>\n",
       "      <td>-5.720868</td>\n",
       "      <td>0.218885</td>\n",
       "      <td>2.361532</td>\n",
       "      <td>0.194052</td>\n",
       "    </tr>\n",
       "    <tr>\n",
       "      <th>75%</th>\n",
       "      <td>182.769000</td>\n",
       "      <td>224.205500</td>\n",
       "      <td>140.018500</td>\n",
       "      <td>0.007365</td>\n",
       "      <td>0.000060</td>\n",
       "      <td>0.003835</td>\n",
       "      <td>0.003955</td>\n",
       "      <td>0.011505</td>\n",
       "      <td>0.037885</td>\n",
       "      <td>0.350000</td>\n",
       "      <td>...</td>\n",
       "      <td>0.060795</td>\n",
       "      <td>0.025640</td>\n",
       "      <td>25.075500</td>\n",
       "      <td>1.000000</td>\n",
       "      <td>0.587562</td>\n",
       "      <td>0.761881</td>\n",
       "      <td>-5.046192</td>\n",
       "      <td>0.279234</td>\n",
       "      <td>2.636456</td>\n",
       "      <td>0.252980</td>\n",
       "    </tr>\n",
       "    <tr>\n",
       "      <th>max</th>\n",
       "      <td>260.105000</td>\n",
       "      <td>592.030000</td>\n",
       "      <td>239.170000</td>\n",
       "      <td>0.033160</td>\n",
       "      <td>0.000260</td>\n",
       "      <td>0.021440</td>\n",
       "      <td>0.019580</td>\n",
       "      <td>0.064330</td>\n",
       "      <td>0.119080</td>\n",
       "      <td>1.302000</td>\n",
       "      <td>...</td>\n",
       "      <td>0.169420</td>\n",
       "      <td>0.314820</td>\n",
       "      <td>33.047000</td>\n",
       "      <td>1.000000</td>\n",
       "      <td>0.685151</td>\n",
       "      <td>0.825288</td>\n",
       "      <td>-2.434031</td>\n",
       "      <td>0.450493</td>\n",
       "      <td>3.671155</td>\n",
       "      <td>0.527367</td>\n",
       "    </tr>\n",
       "  </tbody>\n",
       "</table>\n",
       "<p>8 rows × 23 columns</p>\n",
       "</div>"
      ],
      "text/plain": [
       "       MDVP:Fo(Hz)  MDVP:Fhi(Hz)  MDVP:Flo(Hz)  MDVP:Jitter(%)  \\\n",
       "count   195.000000    195.000000    195.000000      195.000000   \n",
       "mean    154.228641    197.104918    116.324631        0.006220   \n",
       "std      41.390065     91.491548     43.521413        0.004848   \n",
       "min      88.333000    102.145000     65.476000        0.001680   \n",
       "25%     117.572000    134.862500     84.291000        0.003460   \n",
       "50%     148.790000    175.829000    104.315000        0.004940   \n",
       "75%     182.769000    224.205500    140.018500        0.007365   \n",
       "max     260.105000    592.030000    239.170000        0.033160   \n",
       "\n",
       "       MDVP:Jitter(Abs)    MDVP:RAP    MDVP:PPQ  Jitter:DDP  MDVP:Shimmer  \\\n",
       "count        195.000000  195.000000  195.000000  195.000000    195.000000   \n",
       "mean           0.000044    0.003306    0.003446    0.009920      0.029709   \n",
       "std            0.000035    0.002968    0.002759    0.008903      0.018857   \n",
       "min            0.000007    0.000680    0.000920    0.002040      0.009540   \n",
       "25%            0.000020    0.001660    0.001860    0.004985      0.016505   \n",
       "50%            0.000030    0.002500    0.002690    0.007490      0.022970   \n",
       "75%            0.000060    0.003835    0.003955    0.011505      0.037885   \n",
       "max            0.000260    0.021440    0.019580    0.064330      0.119080   \n",
       "\n",
       "       MDVP:Shimmer(dB)  ...  Shimmer:DDA         NHR         HNR      status  \\\n",
       "count        195.000000  ...   195.000000  195.000000  195.000000  195.000000   \n",
       "mean           0.282251  ...     0.046993    0.024847   21.885974    0.753846   \n",
       "std            0.194877  ...     0.030459    0.040418    4.425764    0.431878   \n",
       "min            0.085000  ...     0.013640    0.000650    8.441000    0.000000   \n",
       "25%            0.148500  ...     0.024735    0.005925   19.198000    1.000000   \n",
       "50%            0.221000  ...     0.038360    0.011660   22.085000    1.000000   \n",
       "75%            0.350000  ...     0.060795    0.025640   25.075500    1.000000   \n",
       "max            1.302000  ...     0.169420    0.314820   33.047000    1.000000   \n",
       "\n",
       "             RPDE         DFA     spread1     spread2          D2         PPE  \n",
       "count  195.000000  195.000000  195.000000  195.000000  195.000000  195.000000  \n",
       "mean     0.498536    0.718099   -5.684397    0.226510    2.381826    0.206552  \n",
       "std      0.103942    0.055336    1.090208    0.083406    0.382799    0.090119  \n",
       "min      0.256570    0.574282   -7.964984    0.006274    1.423287    0.044539  \n",
       "25%      0.421306    0.674758   -6.450096    0.174351    2.099125    0.137451  \n",
       "50%      0.495954    0.722254   -5.720868    0.218885    2.361532    0.194052  \n",
       "75%      0.587562    0.761881   -5.046192    0.279234    2.636456    0.252980  \n",
       "max      0.685151    0.825288   -2.434031    0.450493    3.671155    0.527367  \n",
       "\n",
       "[8 rows x 23 columns]"
      ]
     },
     "execution_count": 8,
     "metadata": {},
     "output_type": "execute_result"
    }
   ],
   "source": [
    "# Getting some statistical measures about the data\n",
    "df.describe()"
   ]
  },
  {
   "cell_type": "markdown",
   "id": "7697bb97",
   "metadata": {},
   "source": [
    "With the help of describe we can know how the data is divded and the range of values within their percentages."
   ]
  },
  {
   "cell_type": "markdown",
   "id": "53f153a2",
   "metadata": {},
   "source": [
    "#### Distribution of Target Variable"
   ]
  },
  {
   "cell_type": "markdown",
   "id": "d09fca8f",
   "metadata": {},
   "source": [
    "The target variable is Status"
   ]
  },
  {
   "cell_type": "code",
   "execution_count": 9,
   "id": "1f9db1a2",
   "metadata": {},
   "outputs": [
    {
     "name": "stdout",
     "output_type": "stream",
     "text": [
      "1    147\n",
      "0     48\n",
      "Name: status, dtype: int64\n"
     ]
    }
   ],
   "source": [
    "# Distribution of target Variable.\n",
    "target_count = df['status'].value_counts()\n",
    "print(target_count)"
   ]
  },
  {
   "cell_type": "markdown",
   "id": "a82103c2",
   "metadata": {},
   "source": [
    "1  --> Parkinson's Positive\n",
    "\n",
    "0 --> Healthy"
   ]
  },
  {
   "cell_type": "code",
   "execution_count": 10,
   "id": "9daab406",
   "metadata": {},
   "outputs": [
    {
     "name": "stdout",
     "output_type": "stream",
     "text": [
      "1    75.384615\n",
      "0    24.615385\n",
      "Name: status, dtype: float64\n"
     ]
    },
    {
     "data": {
      "image/png": "[encoded data removed]",
      "text/plain": [
       "<Figure size 432x288 with 1 Axes>"
      ]
     },
     "metadata": {},
     "output_type": "display_data"
    }
   ],
   "source": [
    "# Plotting for the target_count\n",
    "target_count.plot.pie()\n",
    "# Finding the percentage of the column status - target variable\n",
    "percent = (target_count / len(df))*100\n",
    "print(percent)"
   ]
  },
  {
   "cell_type": "markdown",
   "id": "732ddb2e",
   "metadata": {},
   "source": [
    "Finding mean for the Status column"
   ]
  },
  {
   "cell_type": "code",
   "execution_count": 11,
   "id": "f7b9a6e4",
   "metadata": {},
   "outputs": [
    {
     "data": {
      "text/html": [
       "<div>\n",
       "<style scoped>\n",
       "    .dataframe tbody tr th:only-of-type {\n",
       "        vertical-align: middle;\n",
       "    }\n",
       "\n",
       "    .dataframe tbody tr th {\n",
       "        vertical-align: top;\n",
       "    }\n",
       "\n",
       "    .dataframe thead th {\n",
       "        text-align: right;\n",
       "    }\n",
       "</style>\n",
       "<table border=\"1\" class=\"dataframe\">\n",
       "  <thead>\n",
       "    <tr style=\"text-align: right;\">\n",
       "      <th></th>\n",
       "      <th>MDVP:Fo(Hz)</th>\n",
       "      <th>MDVP:Fhi(Hz)</th>\n",
       "      <th>MDVP:Flo(Hz)</th>\n",
       "      <th>MDVP:Jitter(%)</th>\n",
       "      <th>MDVP:Jitter(Abs)</th>\n",
       "      <th>MDVP:RAP</th>\n",
       "      <th>MDVP:PPQ</th>\n",
       "      <th>Jitter:DDP</th>\n",
       "      <th>MDVP:Shimmer</th>\n",
       "      <th>MDVP:Shimmer(dB)</th>\n",
       "      <th>...</th>\n",
       "      <th>MDVP:APQ</th>\n",
       "      <th>Shimmer:DDA</th>\n",
       "      <th>NHR</th>\n",
       "      <th>HNR</th>\n",
       "      <th>RPDE</th>\n",
       "      <th>DFA</th>\n",
       "      <th>spread1</th>\n",
       "      <th>spread2</th>\n",
       "      <th>D2</th>\n",
       "      <th>PPE</th>\n",
       "    </tr>\n",
       "    <tr>\n",
       "      <th>status</th>\n",
       "      <th></th>\n",
       "      <th></th>\n",
       "      <th></th>\n",
       "      <th></th>\n",
       "      <th></th>\n",
       "      <th></th>\n",
       "      <th></th>\n",
       "      <th></th>\n",
       "      <th></th>\n",
       "      <th></th>\n",
       "      <th></th>\n",
       "      <th></th>\n",
       "      <th></th>\n",
       "      <th></th>\n",
       "      <th></th>\n",
       "      <th></th>\n",
       "      <th></th>\n",
       "      <th></th>\n",
       "      <th></th>\n",
       "      <th></th>\n",
       "      <th></th>\n",
       "    </tr>\n",
       "  </thead>\n",
       "  <tbody>\n",
       "    <tr>\n",
       "      <th>0</th>\n",
       "      <td>181.937771</td>\n",
       "      <td>223.636750</td>\n",
       "      <td>145.207292</td>\n",
       "      <td>0.003866</td>\n",
       "      <td>0.000023</td>\n",
       "      <td>0.001925</td>\n",
       "      <td>0.002056</td>\n",
       "      <td>0.005776</td>\n",
       "      <td>0.017615</td>\n",
       "      <td>0.162958</td>\n",
       "      <td>...</td>\n",
       "      <td>0.013305</td>\n",
       "      <td>0.028511</td>\n",
       "      <td>0.011483</td>\n",
       "      <td>24.678750</td>\n",
       "      <td>0.442552</td>\n",
       "      <td>0.695716</td>\n",
       "      <td>-6.759264</td>\n",
       "      <td>0.160292</td>\n",
       "      <td>2.154491</td>\n",
       "      <td>0.123017</td>\n",
       "    </tr>\n",
       "    <tr>\n",
       "      <th>1</th>\n",
       "      <td>145.180762</td>\n",
       "      <td>188.441463</td>\n",
       "      <td>106.893558</td>\n",
       "      <td>0.006989</td>\n",
       "      <td>0.000051</td>\n",
       "      <td>0.003757</td>\n",
       "      <td>0.003900</td>\n",
       "      <td>0.011273</td>\n",
       "      <td>0.033658</td>\n",
       "      <td>0.321204</td>\n",
       "      <td>...</td>\n",
       "      <td>0.027600</td>\n",
       "      <td>0.053027</td>\n",
       "      <td>0.029211</td>\n",
       "      <td>20.974048</td>\n",
       "      <td>0.516816</td>\n",
       "      <td>0.725408</td>\n",
       "      <td>-5.333420</td>\n",
       "      <td>0.248133</td>\n",
       "      <td>2.456058</td>\n",
       "      <td>0.233828</td>\n",
       "    </tr>\n",
       "  </tbody>\n",
       "</table>\n",
       "<p>2 rows × 22 columns</p>\n",
       "</div>"
      ],
      "text/plain": [
       "        MDVP:Fo(Hz)  MDVP:Fhi(Hz)  MDVP:Flo(Hz)  MDVP:Jitter(%)  \\\n",
       "status                                                            \n",
       "0        181.937771    223.636750    145.207292        0.003866   \n",
       "1        145.180762    188.441463    106.893558        0.006989   \n",
       "\n",
       "        MDVP:Jitter(Abs)  MDVP:RAP  MDVP:PPQ  Jitter:DDP  MDVP:Shimmer  \\\n",
       "status                                                                   \n",
       "0               0.000023  0.001925  0.002056    0.005776      0.017615   \n",
       "1               0.000051  0.003757  0.003900    0.011273      0.033658   \n",
       "\n",
       "        MDVP:Shimmer(dB)  ...  MDVP:APQ  Shimmer:DDA       NHR        HNR  \\\n",
       "status                    ...                                               \n",
       "0               0.162958  ...  0.013305     0.028511  0.011483  24.678750   \n",
       "1               0.321204  ...  0.027600     0.053027  0.029211  20.974048   \n",
       "\n",
       "            RPDE       DFA   spread1   spread2        D2       PPE  \n",
       "status                                                              \n",
       "0       0.442552  0.695716 -6.759264  0.160292  2.154491  0.123017  \n",
       "1       0.516816  0.725408 -5.333420  0.248133  2.456058  0.233828  \n",
       "\n",
       "[2 rows x 22 columns]"
      ]
     },
     "execution_count": 11,
     "metadata": {},
     "output_type": "execute_result"
    }
   ],
   "source": [
    "# grouping the data based on the target variable\n",
    "df.groupby('status').mean()"
   ]
  },
  {
   "cell_type": "markdown",
   "id": "4c7c0750",
   "metadata": {},
   "source": [
    "From grouping we can find the major difference in attribute values between healthy people and people effected with parkinsons."
   ]
  },
  {
   "cell_type": "markdown",
   "id": "3f4acf58",
   "metadata": {},
   "source": [
    "### Heatmap to see how the independent variables are correalted with the target"
   ]
  },
  {
   "cell_type": "code",
   "execution_count": 12,
   "id": "a59bc611",
   "metadata": {},
   "outputs": [
    {
     "data": {
      "image/png": "[encoded data removed]",
      "text/plain": [
       "<Figure size 1440x1440 with 2 Axes>"
      ]
     },
     "metadata": {
      "needs_background": "light"
     },
     "output_type": "display_data"
    }
   ],
   "source": [
    "plt.figure(figsize=(20, 20))\n",
    "p = sn.heatmap(df.corr(), annot=True)"
   ]
  },
  {
   "cell_type": "markdown",
   "id": "6908a53f",
   "metadata": {},
   "source": [
    "## Data Preprocessing"
   ]
  },
  {
   "cell_type": "markdown",
   "id": "cbc15448",
   "metadata": {},
   "source": [
    "### Handling categorical values"
   ]
  },
  {
   "cell_type": "markdown",
   "id": "de48f352",
   "metadata": {},
   "source": [
    "Seperating Other variables and Target Variables"
   ]
  },
  {
   "cell_type": "code",
   "execution_count": 13,
   "id": "dce71fdc",
   "metadata": {},
   "outputs": [],
   "source": [
    "# Dropping name column as it is not required\n",
    "x = df.drop(columns=['name','status'], axis=1) \n",
    "#target values\n",
    "y = df['status']"
   ]
  },
  {
   "cell_type": "code",
   "execution_count": 14,
   "id": "ab9dfea2",
   "metadata": {},
   "outputs": [
    {
     "data": {
      "text/plain": [
       "0      1\n",
       "1      1\n",
       "2      1\n",
       "3      1\n",
       "4      1\n",
       "      ..\n",
       "190    0\n",
       "191    0\n",
       "192    0\n",
       "193    0\n",
       "194    0\n",
       "Name: status, Length: 195, dtype: int64"
      ]
     },
     "execution_count": 14,
     "metadata": {},
     "output_type": "execute_result"
    }
   ],
   "source": [
    "y"
   ]
  },
  {
   "cell_type": "markdown",
   "id": "46f7ad22",
   "metadata": {},
   "source": [
    "### Data Standardization"
   ]
  },
  {
   "cell_type": "markdown",
   "id": "9c8872e4",
   "metadata": {},
   "source": [
    "As the values in the table are so different in range we can scale them in the range 1 to -1"
   ]
  },
  {
   "cell_type": "markdown",
   "id": "eb1ec51c",
   "metadata": {},
   "source": [
    "Feature scaling is a method used to standardize the range of independent variables or features of data.\n",
    "Since the range of values of raw data varies widely, in some machine learning algorithms, \n",
    "objective functions will not work properly without normalization. "
   ]
  },
  {
   "cell_type": "code",
   "execution_count": 15,
   "id": "21776adc",
   "metadata": {},
   "outputs": [],
   "source": [
    "from sklearn.preprocessing import StandardScaler"
   ]
  },
  {
   "cell_type": "code",
   "execution_count": 16,
   "id": "4e5ca2c8",
   "metadata": {},
   "outputs": [
    {
     "data": {
      "text/plain": [
       "array([[-0.82929965, -0.43616456, -0.95203729, ...,  0.48047686,\n",
       "        -0.21053082,  0.86888575],\n",
       "       [-0.77097169, -0.53097409, -0.05772056, ...,  1.31118546,\n",
       "         0.27507712,  1.80360503],\n",
       "       [-0.90947638, -0.7231683 , -0.10987483, ...,  1.01768236,\n",
       "        -0.10362861,  1.40266141],\n",
       "       ...,\n",
       "       [ 0.49557839,  0.47010361, -0.96839309, ..., -0.81807931,\n",
       "         0.78033848, -0.83241014],\n",
       "       [ 1.07876114,  2.19004398, -0.95417967, ..., -0.22906571,\n",
       "        -0.63700298, -0.92610456],\n",
       "       [ 1.45481664,  0.69224632, -0.88348115, ..., -0.43085284,\n",
       "         0.45480231, -0.64505466]])"
      ]
     },
     "execution_count": 16,
     "metadata": {},
     "output_type": "execute_result"
    }
   ],
   "source": [
    "# Standardising the data\n",
    "stdscaler = StandardScaler()\n",
    "x = np.array(stdscaler.fit_transform(x))\n",
    "x"
   ]
  },
  {
   "cell_type": "markdown",
   "id": "4002ffed",
   "metadata": {},
   "source": [
    "### Splitting the dataset"
   ]
  },
  {
   "cell_type": "markdown",
   "id": "728f2101",
   "metadata": {},
   "source": [
    "Split the Feature set (X) and Target set (y) into training set (X_train, y_train) and testing set (X_test,y_test)"
   ]
  },
  {
   "cell_type": "code",
   "execution_count": 17,
   "id": "0d40762a",
   "metadata": {},
   "outputs": [],
   "source": [
    "from sklearn.model_selection import train_test_split"
   ]
  },
  {
   "cell_type": "code",
   "execution_count": 18,
   "id": "752c390f",
   "metadata": {},
   "outputs": [
    {
     "name": "stdout",
     "output_type": "stream",
     "text": [
      "(156, 22)\n",
      "(39, 22)\n",
      "(156,)\n",
      "(39,)\n"
     ]
    }
   ],
   "source": [
    "# Splitting to training and testing data (80% training 20% testing)\n",
    "X_train,X_test,Y_train,Y_test = train_test_split(x,y,test_size=0.2,random_state=10)\n",
    "print(X_train.shape)\n",
    "print(X_test.shape)\n",
    "print(Y_train.shape)\n",
    "print(Y_test.shape)"
   ]
  },
  {
   "cell_type": "markdown",
   "id": "5ee3fc24",
   "metadata": {},
   "source": [
    "Converting the values into numpy arrays"
   ]
  },
  {
   "cell_type": "code",
   "execution_count": 19,
   "id": "285ada1d",
   "metadata": {},
   "outputs": [
    {
     "data": {
      "text/plain": [
       "39"
      ]
     },
     "execution_count": 19,
     "metadata": {},
     "output_type": "execute_result"
    }
   ],
   "source": [
    "X_train=np.array(X_train)\n",
    "X_test=np.array(X_test)\n",
    "Y_train = np.array(Y_train)\n",
    "Y_test = np.array(Y_test)\n",
    "len(Y_test)"
   ]
  },
  {
   "cell_type": "markdown",
   "id": "379a2a1d",
   "metadata": {},
   "source": [
    "## Model Training"
   ]
  },
  {
   "cell_type": "markdown",
   "id": "2600e939",
   "metadata": {},
   "source": [
    "There are 5 steps in model training\n",
    "1. Importing the model\n",
    "2. Training or Fitting the model\n",
    "3. Predicting the model\n",
    "4. Finding its Accuracy\n",
    "5. Visualising the Test set - HEATMAP"
   ]
  },
  {
   "cell_type": "markdown",
   "id": "6c5ce3a3",
   "metadata": {},
   "source": [
    "## 1. Linear Regression"
   ]
  },
  {
   "cell_type": "code",
   "execution_count": 20,
   "id": "406593ed",
   "metadata": {},
   "outputs": [],
   "source": [
    "#importing \n",
    "from sklearn.linear_model import LinearRegression"
   ]
  },
  {
   "cell_type": "code",
   "execution_count": 21,
   "id": "81b037af",
   "metadata": {},
   "outputs": [
    {
     "data": {
      "text/plain": [
       "LinearRegression()"
      ]
     },
     "execution_count": 21,
     "metadata": {},
     "output_type": "execute_result"
    }
   ],
   "source": [
    "#fitting the model\n",
    "model1 = LinearRegression()\n",
    "model1.fit(X_train,Y_train)"
   ]
  },
  {
   "cell_type": "code",
   "execution_count": 22,
   "id": "0958edaf",
   "metadata": {},
   "outputs": [
    {
     "data": {
      "text/plain": [
       "array([0.51464502, 0.92291805, 1.08895196, 0.93072429, 0.39722818,\n",
       "       0.96450257, 0.51665718, 0.73428536, 0.96425774, 0.89648295,\n",
       "       0.54933081, 1.04009737, 1.02683814, 1.02090193, 0.52986194,\n",
       "       0.21476581, 1.07171961, 0.93419406, 0.55144217, 0.87538823,\n",
       "       1.17667136, 0.53241189, 0.40486539, 0.77032915, 0.94973256,\n",
       "       0.79196182, 0.95604616, 1.05056541, 0.02141046, 0.08635714,\n",
       "       0.86404109, 0.73424635, 1.07673007, 0.16402396, 0.26651789,\n",
       "       0.70248981, 0.5602687 , 0.96492844, 0.09659312])"
      ]
     },
     "execution_count": 22,
     "metadata": {},
     "output_type": "execute_result"
    }
   ],
   "source": [
    "#predicting the model\n",
    "Y_predmod1=model1.predict(X_test)\n",
    "Y_predmod1"
   ]
  },
  {
   "cell_type": "markdown",
   "id": "03a1f681",
   "metadata": {},
   "source": [
    "We cannot find accuracy with these decimal values as The status prediction should be 0 or 1.\n",
    "\n",
    "Now we convert these values into Binary"
   ]
  },
  {
   "cell_type": "code",
   "execution_count": 23,
   "id": "3e6fb05f",
   "metadata": {},
   "outputs": [
    {
     "name": "stdout",
     "output_type": "stream",
     "text": [
      "[1. 1. 1. 1. 0. 1. 1. 1. 1. 1. 1. 1. 1. 1. 1. 0. 1. 1. 1. 1. 1. 1. 0. 1.\n",
      " 1. 1. 1. 1. 0. 0. 1. 1. 1. 0. 0. 1. 1. 1. 0.]\n",
      "\n",
      "[1 1 1 1 0 1 0 1 1 1 1 1 1 1 1 0 1 1 1 1 1 0 0 1 1 1 1 1 0 0 1 1 1 0 0 1 0\n",
      " 1 0]\n",
      "(39,)\n"
     ]
    }
   ],
   "source": [
    "# Converting the above values to binary to find accuracy\n",
    "for i,j in enumerate(Y_predmod1):\n",
    "    if(j<0.5):\n",
    "        Y_predmod1[i]=0\n",
    "    else:\n",
    "        Y_predmod1[i]=1\n",
    "print(Y_predmod1)\n",
    "print(\"\")\n",
    "print(Y_test)\n",
    "print(Y_test.shape)"
   ]
  },
  {
   "cell_type": "code",
   "execution_count": 24,
   "id": "007eb826",
   "metadata": {},
   "outputs": [
    {
     "name": "stdout",
     "output_type": "stream",
     "text": [
      "X_test Y_test\n",
      "1.0     1\n",
      "1.0     1\n",
      "1.0     1\n",
      "1.0     1\n",
      "0.0     0\n",
      "1.0     1\n",
      "1.0     0\n",
      "1.0     1\n",
      "1.0     1\n",
      "1.0     1\n",
      "1.0     1\n",
      "1.0     1\n",
      "1.0     1\n",
      "1.0     1\n",
      "1.0     1\n",
      "0.0     0\n",
      "1.0     1\n",
      "1.0     1\n",
      "1.0     1\n",
      "1.0     1\n",
      "1.0     1\n",
      "1.0     0\n",
      "0.0     0\n",
      "1.0     1\n",
      "1.0     1\n",
      "1.0     1\n",
      "1.0     1\n",
      "1.0     1\n",
      "0.0     0\n",
      "0.0     0\n",
      "1.0     1\n",
      "1.0     1\n",
      "1.0     1\n",
      "0.0     0\n",
      "0.0     0\n",
      "1.0     1\n",
      "1.0     0\n",
      "1.0     1\n",
      "0.0     0\n"
     ]
    }
   ],
   "source": [
    "print(\"X_test Y_test\")\n",
    "for i,j in zip(Y_predmod1,Y_test):\n",
    "    print(i,\"   \",j)"
   ]
  },
  {
   "cell_type": "code",
   "execution_count": 25,
   "id": "063aee70",
   "metadata": {},
   "outputs": [
    {
     "name": "stdout",
     "output_type": "stream",
     "text": [
      "Linear Regression Accuracy: 66.34994862741931\n"
     ]
    }
   ],
   "source": [
    "#Finding Accuracy\n",
    "Acc1 = model1.score(X_test,Y_test)*100\n",
    "print(\"Linear Regression Accuracy:\",Acc1)"
   ]
  },
  {
   "cell_type": "markdown",
   "id": "06d2d20c",
   "metadata": {},
   "source": [
    "Finding Coefficients and Intercept of Linear Regression"
   ]
  },
  {
   "cell_type": "code",
   "execution_count": 26,
   "id": "b2a7f8cf",
   "metadata": {},
   "outputs": [
    {
     "name": "stdout",
     "output_type": "stream",
     "text": [
      "Coefficients are  [-1.04534118e-01 -8.64109626e-03 -8.47479945e-02 -8.42742504e-01\n",
      " -2.11212157e-01  1.56884203e+01 -1.42137550e-01 -1.46054643e+01\n",
      "  5.17532503e-01  5.28230731e-02 -4.02387066e+01 -2.09417859e-01\n",
      " -7.79932356e-02  4.00157133e+01 -9.44810447e-02 -4.34151524e-02\n",
      " -8.18391150e-02  1.28448884e-02  7.56285161e-02  1.01698916e-01\n",
      "  1.77072618e-02  1.60954993e-01]\n",
      "\n",
      "Intercept are 0.7534122263490168\n"
     ]
    }
   ],
   "source": [
    "print(\"Coefficients are \",model1.coef_)\n",
    "print(\"\\nIntercept are\",model1.intercept_)\n"
   ]
  },
  {
   "cell_type": "markdown",
   "id": "a48d878a",
   "metadata": {},
   "source": [
    "### Heatmap "
   ]
  },
  {
   "cell_type": "code",
   "execution_count": 27,
   "id": "ff36799d",
   "metadata": {},
   "outputs": [],
   "source": [
    "#evaluate the performance of algorithms, we used different metrics.\n",
    "#Confusion matrix helps to find different Metrics\n",
    "from sklearn.metrics import confusion_matrix"
   ]
  },
  {
   "cell_type": "code",
   "execution_count": 28,
   "id": "c71df8f2",
   "metadata": {},
   "outputs": [
    {
     "data": {
      "text/plain": [
       "Text(24.0, 0.5, 'Truth')"
      ]
     },
     "execution_count": 28,
     "metadata": {},
     "output_type": "execute_result"
    },
    {
     "data": {
      "image/png": "[encoded data removed]",
      "text/plain": [
       "<Figure size 360x360 with 2 Axes>"
      ]
     },
     "metadata": {
      "needs_background": "light"
     },
     "output_type": "display_data"
    }
   ],
   "source": [
    "plt.rcParams['figure.figsize'] = [5,5]\n",
    "\n",
    "cm=confusion_matrix(Y_test,Y_predmod1)\n",
    "plt.title(\"Linear Regression\")\n",
    "fg=sn.heatmap(cm,annot=True,cmap='Reds')\n",
    "figure = fg.get_figure()\n",
    "plt.xlabel(\"Predicted\")\n",
    "plt.ylabel(\"Truth\")\n"
   ]
  },
  {
   "cell_type": "markdown",
   "id": "c8387c50",
   "metadata": {},
   "source": [
    "## 2. Logistic Regression"
   ]
  },
  {
   "cell_type": "code",
   "execution_count": 29,
   "id": "f61c1b00",
   "metadata": {},
   "outputs": [],
   "source": [
    "#importing \n",
    "from sklearn.linear_model import LogisticRegression"
   ]
  },
  {
   "cell_type": "code",
   "execution_count": 30,
   "id": "184cd352",
   "metadata": {},
   "outputs": [
    {
     "data": {
      "text/plain": [
       "LogisticRegression()"
      ]
     },
     "execution_count": 30,
     "metadata": {},
     "output_type": "execute_result"
    }
   ],
   "source": [
    "#training or fitting\n",
    "model2 = LogisticRegression()\n",
    "model2.fit(X_train,Y_train)"
   ]
  },
  {
   "cell_type": "code",
   "execution_count": 31,
   "id": "7743259e",
   "metadata": {},
   "outputs": [
    {
     "name": "stdout",
     "output_type": "stream",
     "text": [
      "[1 1 1 1 0 1 0 1 1 1 1 1 1 1 1 0 1 1 0 1 1 0 0 1 1 1 1 1 0 0 1 1 1 0 0 1 0\n",
      " 1 0]\n",
      "[1 1 1 1 0 1 0 1 1 1 1 1 1 1 1 0 1 1 1 1 1 0 0 1 1 1 1 1 0 0 1 1 1 0 0 1 0\n",
      " 1 0]\n"
     ]
    }
   ],
   "source": [
    "#predicting \n",
    "Y_predmod2 = model2.predict(X_test)\n",
    "print(Y_predmod2)\n",
    "print(Y_test)"
   ]
  },
  {
   "cell_type": "code",
   "execution_count": 32,
   "id": "982754cd",
   "metadata": {},
   "outputs": [
    {
     "name": "stdout",
     "output_type": "stream",
     "text": [
      "Logistic Regression Accuracy: 97.43589743589743\n"
     ]
    }
   ],
   "source": [
    "# Accuracy score on training data\n",
    "Acc2 = model2.score(X_test,Y_test)*100\n",
    "print(\"Logistic Regression Accuracy:\",Acc2)"
   ]
  },
  {
   "cell_type": "markdown",
   "id": "4f257a25",
   "metadata": {},
   "source": [
    "Some Probabities in Logistic Regression"
   ]
  },
  {
   "cell_type": "code",
   "execution_count": 33,
   "id": "44b41d6b",
   "metadata": {},
   "outputs": [
    {
     "data": {
      "text/plain": [
       "array([[6.04302356e-02, 9.39569764e-01],\n",
       "       [3.22125469e-03, 9.96778745e-01],\n",
       "       [1.50254202e-03, 9.98497458e-01],\n",
       "       [2.59753456e-02, 9.74024654e-01],\n",
       "       [5.76189480e-01, 4.23810520e-01],\n",
       "       [2.61914891e-03, 9.97380851e-01],\n",
       "       [7.34636224e-01, 2.65363776e-01],\n",
       "       [2.27997815e-02, 9.77200219e-01],\n",
       "       [1.53787217e-01, 8.46212783e-01],\n",
       "       [3.05365168e-03, 9.96946348e-01],\n",
       "       [4.45622835e-01, 5.54377165e-01],\n",
       "       [2.53908029e-02, 9.74609197e-01],\n",
       "       [7.04228379e-02, 9.29577162e-01],\n",
       "       [5.71461644e-02, 9.42853836e-01],\n",
       "       [2.57962987e-01, 7.42037013e-01],\n",
       "       [7.91088358e-01, 2.08911642e-01],\n",
       "       [7.27540850e-03, 9.92724592e-01],\n",
       "       [4.44811777e-02, 9.55518822e-01],\n",
       "       [5.88103262e-01, 4.11896738e-01],\n",
       "       [3.32999226e-03, 9.96670008e-01],\n",
       "       [2.44702351e-04, 9.99755298e-01],\n",
       "       [5.56339077e-01, 4.43660923e-01],\n",
       "       [6.99562434e-01, 3.00437566e-01],\n",
       "       [3.94903792e-02, 9.60509621e-01],\n",
       "       [4.36883644e-03, 9.95631164e-01],\n",
       "       [1.54327457e-01, 8.45672543e-01],\n",
       "       [1.64888962e-02, 9.83511104e-01],\n",
       "       [6.22560045e-04, 9.99377440e-01],\n",
       "       [9.07739647e-01, 9.22603532e-02],\n",
       "       [9.50248033e-01, 4.97519666e-02],\n",
       "       [4.25903823e-02, 9.57409618e-01],\n",
       "       [1.58446711e-01, 8.41553289e-01],\n",
       "       [4.40254150e-02, 9.55974585e-01],\n",
       "       [9.16494901e-01, 8.35050992e-02],\n",
       "       [7.27611002e-01, 2.72388998e-01],\n",
       "       [3.63898366e-01, 6.36101634e-01],\n",
       "       [6.55703453e-01, 3.44296547e-01],\n",
       "       [1.41646900e-02, 9.85835310e-01],\n",
       "       [8.52785824e-01, 1.47214176e-01]])"
      ]
     },
     "execution_count": 33,
     "metadata": {},
     "output_type": "execute_result"
    }
   ],
   "source": [
    "model2.predict_proba(X_test)"
   ]
  },
  {
   "cell_type": "code",
   "execution_count": 34,
   "id": "5ff03e88",
   "metadata": {},
   "outputs": [
    {
     "data": {
      "text/plain": [
       "Text(24.0, 0.5, 'Truth')"
      ]
     },
     "execution_count": 34,
     "metadata": {},
     "output_type": "execute_result"
    },
    {
     "data": {
      "image/png": "[encoded data removed]",
      "text/plain": [
       "<Figure size 360x360 with 2 Axes>"
      ]
     },
     "metadata": {
      "needs_background": "light"
     },
     "output_type": "display_data"
    }
   ],
   "source": [
    "#Heatmap\n",
    "cm=confusion_matrix(Y_test,Y_predmod2)\n",
    "plt.title(\"Logistic Regression\")\n",
    "fg=sn.heatmap(cm,annot=True,cmap='Reds')\n",
    "figure = fg.get_figure()\n",
    "plt.xlabel(\"Predicted\")\n",
    "plt.ylabel(\"Truth\")"
   ]
  },
  {
   "cell_type": "markdown",
   "id": "704708b2",
   "metadata": {},
   "source": [
    "## 3. Decision Tree"
   ]
  },
  {
   "cell_type": "code",
   "execution_count": 35,
   "id": "20d6577f",
   "metadata": {},
   "outputs": [],
   "source": [
    "#importing\n",
    "from sklearn import tree"
   ]
  },
  {
   "cell_type": "code",
   "execution_count": 36,
   "id": "df3ba6b4",
   "metadata": {},
   "outputs": [
    {
     "data": {
      "text/plain": [
       "DecisionTreeClassifier()"
      ]
     },
     "execution_count": 36,
     "metadata": {},
     "output_type": "execute_result"
    }
   ],
   "source": [
    "#training\n",
    "model3 = tree.DecisionTreeClassifier()\n",
    "model3.fit(X_train,Y_train)"
   ]
  },
  {
   "cell_type": "code",
   "execution_count": 37,
   "id": "41901dab",
   "metadata": {},
   "outputs": [
    {
     "name": "stdout",
     "output_type": "stream",
     "text": [
      "[1 1 1 1 1 1 0 1 1 1 1 1 1 1 1 0 1 1 1 1 1 0 0 0 1 1 1 1 1 0 1 1 1 0 0 1 0\n",
      " 1 0]\n",
      "[1 1 1 1 0 1 0 1 1 1 1 1 1 1 1 0 1 1 1 1 1 0 0 1 1 1 1 1 0 0 1 1 1 0 0 1 0\n",
      " 1 0]\n"
     ]
    }
   ],
   "source": [
    "#Predictions\n",
    "Y_predmod3=model3.predict(X_test)\n",
    "print(Y_predmod3)\n",
    "print(Y_test)"
   ]
  },
  {
   "cell_type": "code",
   "execution_count": 38,
   "id": "776c2c17",
   "metadata": {},
   "outputs": [
    {
     "name": "stdout",
     "output_type": "stream",
     "text": [
      "Decision Tree Accuracy: 92.3076923076923\n"
     ]
    }
   ],
   "source": [
    "# Accuracy score on training data\n",
    "Acc3 = model3.score(X_test,Y_test)*100\n",
    "print(\"Decision Tree Accuracy:\",Acc3)"
   ]
  },
  {
   "cell_type": "code",
   "execution_count": 39,
   "id": "450ec9db",
   "metadata": {},
   "outputs": [
    {
     "data": {
      "text/plain": [
       "Text(24.0, 0.5, 'Truth')"
      ]
     },
     "execution_count": 39,
     "metadata": {},
     "output_type": "execute_result"
    },
    {
     "data": {
      "image/png": "[encoded data removed]",
      "text/plain": [
       "<Figure size 360x360 with 2 Axes>"
      ]
     },
     "metadata": {
      "needs_background": "light"
     },
     "output_type": "display_data"
    }
   ],
   "source": [
    "#Heatmap\n",
    "cm=confusion_matrix(Y_test,Y_predmod3)\n",
    "plt.title(\"Desicion Tree\")\n",
    "fg=sn.heatmap(cm,annot=True,cmap='Reds')\n",
    "figure = fg.get_figure()\n",
    "plt.xlabel(\"Predicted\")\n",
    "plt.ylabel(\"Truth\")"
   ]
  },
  {
   "cell_type": "markdown",
   "id": "82b9f801",
   "metadata": {},
   "source": [
    "## 4. Support Vector Machine "
   ]
  },
  {
   "cell_type": "code",
   "execution_count": 40,
   "id": "2ca32078",
   "metadata": {},
   "outputs": [],
   "source": [
    "#importing\n",
    "from sklearn.svm import SVC"
   ]
  },
  {
   "cell_type": "code",
   "execution_count": 41,
   "id": "67848f86",
   "metadata": {},
   "outputs": [
    {
     "data": {
      "text/plain": [
       "SVC(kernel='linear')"
      ]
     },
     "execution_count": 41,
     "metadata": {},
     "output_type": "execute_result"
    }
   ],
   "source": [
    "#training \n",
    "model4 = SVC(kernel='linear')\n",
    "model4.fit(X_train,Y_train)"
   ]
  },
  {
   "cell_type": "code",
   "execution_count": 42,
   "id": "b6e506e1",
   "metadata": {},
   "outputs": [
    {
     "name": "stdout",
     "output_type": "stream",
     "text": [
      "[1 1 1 1 0 1 0 1 1 1 1 1 1 1 1 0 1 1 1 1 1 0 0 1 1 1 1 1 0 0 1 1 1 0 0 1 0\n",
      " 1 0]\n",
      "[1 1 1 1 0 1 0 1 1 1 1 1 1 1 1 0 1 1 1 1 1 0 0 1 1 1 1 1 0 0 1 1 1 0 0 1 0\n",
      " 1 0]\n"
     ]
    }
   ],
   "source": [
    "#predicting\n",
    "Y_predmod4=model4.predict(X_test)\n",
    "print(Y_predmod4)\n",
    "print(Y_test)"
   ]
  },
  {
   "cell_type": "code",
   "execution_count": 43,
   "id": "9e2a4b95",
   "metadata": {},
   "outputs": [
    {
     "name": "stdout",
     "output_type": "stream",
     "text": [
      "Support Vector Machine Accuracy 100.0\n"
     ]
    }
   ],
   "source": [
    "# Accuracy score on training data\n",
    "Acc4 = model4.score(X_test,Y_test)*100\n",
    "print(\"Support Vector Machine Accuracy\",Acc4)"
   ]
  },
  {
   "cell_type": "code",
   "execution_count": 44,
   "id": "a978adfc",
   "metadata": {},
   "outputs": [
    {
     "data": {
      "text/plain": [
       "Text(24.0, 0.5, 'Truth')"
      ]
     },
     "execution_count": 44,
     "metadata": {},
     "output_type": "execute_result"
    },
    {
     "data": {
      "image/png": "[encoded data removed]",
      "text/plain": [
       "<Figure size 360x360 with 2 Axes>"
      ]
     },
     "metadata": {
      "needs_background": "light"
     },
     "output_type": "display_data"
    }
   ],
   "source": [
    "cm=confusion_matrix(Y_test,Y_predmod4)\n",
    "plt.title(\"Support Vector Machines\")\n",
    "fg=sn.heatmap(cm,annot=True,cmap='Reds')\n",
    "figure = fg.get_figure()\n",
    "plt.xlabel(\"Predicted\")\n",
    "plt.ylabel(\"Truth\")"
   ]
  },
  {
   "cell_type": "markdown",
   "id": "cd4a0407",
   "metadata": {},
   "source": [
    "## 5.XG boost"
   ]
  },
  {
   "cell_type": "code",
   "execution_count": 45,
   "id": "b33aab65",
   "metadata": {},
   "outputs": [],
   "source": [
    "#importing\n",
    "from xgboost import XGBClassifier"
   ]
  },
  {
   "cell_type": "code",
   "execution_count": 46,
   "id": "4b9aaf0a",
   "metadata": {},
   "outputs": [
    {
     "name": "stdout",
     "output_type": "stream",
     "text": [
      "[13:59:43] WARNING: C:/Users/Administrator/workspace/xgboost-win64_release_1.4.0/src/learner.cc:1095: Starting in XGBoost 1.3.0, the default evaluation metric used with the objective 'binary:logistic' was changed from 'error' to 'logloss'. Explicitly set eval_metric if you'd like to restore the old behavior.\n"
     ]
    },
    {
     "data": {
      "text/plain": [
       "XGBClassifier(base_score=0.5, booster='gbtree', colsample_bylevel=1,\n",
       "              colsample_bynode=1, colsample_bytree=1, gamma=0, gpu_id=-1,\n",
       "              importance_type='gain', interaction_constraints='',\n",
       "              learning_rate=0.300000012, max_delta_step=0, max_depth=6,\n",
       "              min_child_weight=1, missing=nan, monotone_constraints='()',\n",
       "              n_estimators=100, n_jobs=8, num_parallel_tree=1, random_state=0,\n",
       "              reg_alpha=0, reg_lambda=1, scale_pos_weight=1, subsample=1,\n",
       "              tree_method='exact', validate_parameters=1, verbosity=None)"
      ]
     },
     "execution_count": 46,
     "metadata": {},
     "output_type": "execute_result"
    }
   ],
   "source": [
    "#training\n",
    "model5 = XGBClassifier()\n",
    "model5.fit(X_train,Y_train)\n"
   ]
  },
  {
   "cell_type": "code",
   "execution_count": 47,
   "id": "5385946d",
   "metadata": {},
   "outputs": [
    {
     "name": "stdout",
     "output_type": "stream",
     "text": [
      "[1 1 1 1 0 1 0 1 1 1 1 1 1 1 1 0 1 1 1 1 1 0 0 1 1 1 1 1 0 0 1 1 1 0 0 1 0\n",
      " 1 0]\n",
      "[1 1 1 1 0 1 0 1 1 1 1 1 1 1 1 0 1 1 1 1 1 0 0 1 1 1 1 1 0 0 1 1 1 0 0 1 0\n",
      " 1 0]\n"
     ]
    }
   ],
   "source": [
    "Y_predmod5=model5.predict(X_test)\n",
    "print(Y_predmod5)\n",
    "print(Y_test)"
   ]
  },
  {
   "cell_type": "code",
   "execution_count": 48,
   "id": "aeae73ea",
   "metadata": {},
   "outputs": [
    {
     "name": "stdout",
     "output_type": "stream",
     "text": [
      "XGB classifier Accuracy: 100.0\n"
     ]
    }
   ],
   "source": [
    "Acc5 = model5.score(X_test,Y_test)*100\n",
    "print(\"XGB classifier Accuracy:\",Acc5)"
   ]
  },
  {
   "cell_type": "code",
   "execution_count": 49,
   "id": "ac08b58a",
   "metadata": {},
   "outputs": [
    {
     "data": {
      "text/plain": [
       "Text(24.0, 0.5, 'Truth')"
      ]
     },
     "execution_count": 49,
     "metadata": {},
     "output_type": "execute_result"
    },
    {
     "data": {
      "image/png": "[encoded data removed]",
      "text/plain": [
       "<Figure size 360x360 with 2 Axes>"
      ]
     },
     "metadata": {
      "needs_background": "light"
     },
     "output_type": "display_data"
    }
   ],
   "source": [
    "cm=confusion_matrix(Y_test,Y_predmod5)\n",
    "plt.title(\"XGBoost\")\n",
    "fg=sn.heatmap(cm,annot=True,cmap='Reds')\n",
    "figure = fg.get_figure()\n",
    "plt.xlabel(\"Predicted\")\n",
    "plt.ylabel(\"Truth\")"
   ]
  },
  {
   "cell_type": "markdown",
   "id": "242edb0f",
   "metadata": {},
   "source": [
    "## 6.Random Forest "
   ]
  },
  {
   "cell_type": "code",
   "execution_count": 50,
   "id": "e2e50db0",
   "metadata": {},
   "outputs": [],
   "source": [
    "#importing\n",
    "from sklearn.ensemble import RandomForestClassifier"
   ]
  },
  {
   "cell_type": "code",
   "execution_count": 51,
   "id": "db7c6206",
   "metadata": {},
   "outputs": [
    {
     "data": {
      "text/plain": [
       "RandomForestClassifier()"
      ]
     },
     "execution_count": 51,
     "metadata": {},
     "output_type": "execute_result"
    }
   ],
   "source": [
    "#training\n",
    "model6 = RandomForestClassifier()\n",
    "model6.fit(X_train,Y_train)"
   ]
  },
  {
   "cell_type": "code",
   "execution_count": 52,
   "id": "283336e5",
   "metadata": {},
   "outputs": [
    {
     "name": "stdout",
     "output_type": "stream",
     "text": [
      "[1 1 1 1 0 1 0 1 1 1 1 1 1 1 1 0 1 1 1 1 1 0 0 1 1 1 1 1 0 0 1 1 1 0 0 1 0\n",
      " 1 0]\n",
      "[1 1 1 1 0 1 0 1 1 1 1 1 1 1 1 0 1 1 1 1 1 0 0 1 1 1 1 1 0 0 1 1 1 0 0 1 0\n",
      " 1 0]\n"
     ]
    }
   ],
   "source": [
    "Y_predmod6=model6.predict(X_test)\n",
    "print(Y_predmod5)\n",
    "print(Y_test)"
   ]
  },
  {
   "cell_type": "code",
   "execution_count": 53,
   "id": "748daff2",
   "metadata": {},
   "outputs": [
    {
     "name": "stdout",
     "output_type": "stream",
     "text": [
      "Random Forest Accuracy: 100.0\n"
     ]
    }
   ],
   "source": [
    "# Accuracy score on training data\n",
    "Acc6 = model6.score(X_test,Y_test)*100\n",
    "print(\"Random Forest Accuracy:\",Acc6)"
   ]
  },
  {
   "cell_type": "code",
   "execution_count": 54,
   "id": "0ab3c3ef",
   "metadata": {},
   "outputs": [
    {
     "data": {
      "text/plain": [
       "Text(24.0, 0.5, 'Truth')"
      ]
     },
     "execution_count": 54,
     "metadata": {},
     "output_type": "execute_result"
    },
    {
     "data": {
      "image/png": "[encoded data removed]",
      "text/plain": [
       "<Figure size 360x360 with 2 Axes>"
      ]
     },
     "metadata": {
      "needs_background": "light"
     },
     "output_type": "display_data"
    }
   ],
   "source": [
    "cm=confusion_matrix(Y_test,Y_predmod5)\n",
    "plt.title(\"Random Forest\")\n",
    "fg=sn.heatmap(cm,annot=True,cmap='Reds')\n",
    "figure = fg.get_figure()\n",
    "plt.xlabel(\"Predicted\")\n",
    "plt.ylabel(\"Truth\")"
   ]
  },
  {
   "cell_type": "markdown",
   "id": "7f695040",
   "metadata": {},
   "source": [
    "### Comparing accuracy for all the applied classifiers"
   ]
  },
  {
   "cell_type": "code",
   "execution_count": 55,
   "id": "583fa712",
   "metadata": {},
   "outputs": [
    {
     "name": "stdout",
     "output_type": "stream",
     "text": [
      "[13:59:45] WARNING: C:/Users/Administrator/workspace/xgboost-win64_release_1.4.0/src/learner.cc:1095: Starting in XGBoost 1.3.0, the default evaluation metric used with the objective 'binary:logistic' was changed from 'error' to 'logloss'. Explicitly set eval_metric if you'd like to restore the old behavior.\n",
      "                    Models    Accuracy\n",
      "0        Linear Regression   66.349949\n",
      "1      Logistic Regression   97.435897\n",
      "2            Decision Tree   94.871795\n",
      "3  Support Vector Machines  100.000000\n",
      "4                  XGBoost  100.000000\n",
      "5            Random Forest   94.871795\n"
     ]
    }
   ],
   "source": [
    "names = [\"Linear Regression\",\"Logistic Regression\",\"Decision Tree\",\"Support Vector Machines\",\"XGBoost\",\"Random Forest\"]\n",
    "classifiers= [model1,model2,model3,model4,model5,model6]\n",
    "accuracy = []\n",
    "# Iterate over classifiers\n",
    "for name, clf in zip(names,classifiers):\n",
    "    clf.fit(X_train,Y_train)\n",
    "    Acc = clf.score(X_test,Y_test)*100\n",
    "    accuracy.append(Acc)\n",
    "\n",
    "df1 = pd.DataFrame()\n",
    "df1['Models'] = names\n",
    "df1['Accuracy'] = accuracy\n",
    "print(df1)"
   ]
  },
  {
   "cell_type": "code",
   "execution_count": 56,
   "id": "ff138630",
   "metadata": {},
   "outputs": [
    {
     "data": {
      "text/html": [
       "<div>\n",
       "<style scoped>\n",
       "    .dataframe tbody tr th:only-of-type {\n",
       "        vertical-align: middle;\n",
       "    }\n",
       "\n",
       "    .dataframe tbody tr th {\n",
       "        vertical-align: top;\n",
       "    }\n",
       "\n",
       "    .dataframe thead th {\n",
       "        text-align: right;\n",
       "    }\n",
       "</style>\n",
       "<table border=\"1\" class=\"dataframe\">\n",
       "  <thead>\n",
       "    <tr style=\"text-align: right;\">\n",
       "      <th></th>\n",
       "      <th>Models</th>\n",
       "      <th>Accuracy</th>\n",
       "    </tr>\n",
       "  </thead>\n",
       "  <tbody>\n",
       "    <tr>\n",
       "      <th>0</th>\n",
       "      <td>Linear Regression</td>\n",
       "      <td>66.349949</td>\n",
       "    </tr>\n",
       "    <tr>\n",
       "      <th>1</th>\n",
       "      <td>Logistic Regression</td>\n",
       "      <td>97.435897</td>\n",
       "    </tr>\n",
       "    <tr>\n",
       "      <th>2</th>\n",
       "      <td>Decision Tree</td>\n",
       "      <td>94.871795</td>\n",
       "    </tr>\n",
       "    <tr>\n",
       "      <th>3</th>\n",
       "      <td>Support Vector Machines</td>\n",
       "      <td>100.000000</td>\n",
       "    </tr>\n",
       "    <tr>\n",
       "      <th>4</th>\n",
       "      <td>XGBoost</td>\n",
       "      <td>100.000000</td>\n",
       "    </tr>\n",
       "    <tr>\n",
       "      <th>5</th>\n",
       "      <td>Random Forest</td>\n",
       "      <td>94.871795</td>\n",
       "    </tr>\n",
       "  </tbody>\n",
       "</table>\n",
       "</div>"
      ],
      "text/plain": [
       "                    Models    Accuracy\n",
       "0        Linear Regression   66.349949\n",
       "1      Logistic Regression   97.435897\n",
       "2            Decision Tree   94.871795\n",
       "3  Support Vector Machines  100.000000\n",
       "4                  XGBoost  100.000000\n",
       "5            Random Forest   94.871795"
      ]
     },
     "execution_count": 56,
     "metadata": {},
     "output_type": "execute_result"
    }
   ],
   "source": [
    "df1"
   ]
  },
  {
   "cell_type": "markdown",
   "id": "3871a93c",
   "metadata": {},
   "source": [
    "### Get performance metrics for all the applied classifiers"
   ]
  },
  {
   "cell_type": "markdown",
   "id": "b191fe1f",
   "metadata": {},
   "source": [
    "### Evaluating the Performance of Classifiers"
   ]
  },
  {
   "cell_type": "code",
   "execution_count": 57,
   "id": "ab0a5acf",
   "metadata": {},
   "outputs": [],
   "source": [
    "'''\n",
    "from sklearn metrics and classification report we get the main metrics \n",
    "1.precision\n",
    "2.accuracy\n",
    "3.recall\n",
    "4.f1 -score\n",
    "'''\n",
    "from sklearn.metrics import classification_report"
   ]
  },
  {
   "cell_type": "code",
   "execution_count": 64,
   "id": "7e4ac5da",
   "metadata": {},
   "outputs": [
    {
     "name": "stdout",
     "output_type": "stream",
     "text": [
      "_________________________________________________________________________________\n",
      "Linear Regression Performance metrics\n",
      "               precision    recall  f1-score   support\n",
      "\n",
      "           0       1.00      0.73      0.84        11\n",
      "           1       0.90      1.00      0.95        28\n",
      "\n",
      "    accuracy                           0.92        39\n",
      "   macro avg       0.95      0.86      0.90        39\n",
      "weighted avg       0.93      0.92      0.92        39\n",
      "\n",
      "_________________________________________________________________________________\n",
      "Logistic Regression Performance metrics\n",
      "               precision    recall  f1-score   support\n",
      "\n",
      "           0       0.92      1.00      0.96        11\n",
      "           1       1.00      0.96      0.98        28\n",
      "\n",
      "    accuracy                           0.97        39\n",
      "   macro avg       0.96      0.98      0.97        39\n",
      "weighted avg       0.98      0.97      0.97        39\n",
      "\n",
      "_________________________________________________________________________________\n",
      "Desicion Tree Performance metrics\n",
      "               precision    recall  f1-score   support\n",
      "\n",
      "           0       0.90      0.82      0.86        11\n",
      "           1       0.93      0.96      0.95        28\n",
      "\n",
      "    accuracy                           0.92        39\n",
      "   macro avg       0.92      0.89      0.90        39\n",
      "weighted avg       0.92      0.92      0.92        39\n",
      "\n",
      "_________________________________________________________________________________\n",
      "Support Vector Machines Performance metrics\n",
      "               precision    recall  f1-score   support\n",
      "\n",
      "           0       1.00      1.00      1.00        11\n",
      "           1       1.00      1.00      1.00        28\n",
      "\n",
      "    accuracy                           1.00        39\n",
      "   macro avg       1.00      1.00      1.00        39\n",
      "weighted avg       1.00      1.00      1.00        39\n",
      "\n",
      "_________________________________________________________________________________\n",
      "XGBoost Performance metrics\n",
      "               precision    recall  f1-score   support\n",
      "\n",
      "           0       1.00      1.00      1.00        11\n",
      "           1       1.00      1.00      1.00        28\n",
      "\n",
      "    accuracy                           1.00        39\n",
      "   macro avg       1.00      1.00      1.00        39\n",
      "weighted avg       1.00      1.00      1.00        39\n",
      "\n",
      "_________________________________________________________________________________\n",
      "Random Forest Performance metrics\n",
      "               precision    recall  f1-score   support\n",
      "\n",
      "           0       1.00      1.00      1.00        11\n",
      "           1       1.00      1.00      1.00        28\n",
      "\n",
      "    accuracy                           1.00        39\n",
      "   macro avg       1.00      1.00      1.00        39\n",
      "weighted avg       1.00      1.00      1.00        39\n",
      "\n",
      "_________________________________________________________________________________\n"
     ]
    }
   ],
   "source": [
    "# Classification Report of models\n",
    "print(\"_________________________________________________________________________________\")\n",
    "print(\"Linear Regression Performance metrics\\n\",classification_report(Y_test,Y_predmod1))\n",
    "print(\"_________________________________________________________________________________\")\n",
    "print(\"Logistic Regression Performance metrics\\n\",classification_report(Y_test,Y_predmod2))\n",
    "print(\"_________________________________________________________________________________\")\n",
    "print(\"Desicion Tree Performance metrics\\n\",classification_report(Y_test,Y_predmod3))\n",
    "print(\"_________________________________________________________________________________\")\n",
    "print(\"Support Vector Machines Performance metrics\\n\",classification_report(Y_test,Y_predmod4))\n",
    "print(\"_________________________________________________________________________________\")\n",
    "print(\"XGBoost Performance metrics\\n\",classification_report(Y_test,Y_predmod5))\n",
    "print(\"_________________________________________________________________________________\")\n",
    "print(\"Random Forest Performance metrics\\n\",classification_report(Y_test,Y_predmod6))\n",
    "print(\"_________________________________________________________________________________\")\n"
   ]
  },
  {
   "cell_type": "markdown",
   "id": "f93016dd",
   "metadata": {},
   "source": [
    "### Comparing Confusion Matrices of Models"
   ]
  },
  {
   "cell_type": "code",
   "execution_count": 67,
   "id": "0268154f",
   "metadata": {},
   "outputs": [
    {
     "data": {
      "text/plain": [
       "Text(781.1, 0.5, 'Truth')"
      ]
     },
     "execution_count": 67,
     "metadata": {},
     "output_type": "execute_result"
    },
    {
     "data": {
      "image/png": "[encoded data removed]",
      "text/plain": [
       "<Figure size 1080x720 with 12 Axes>"
      ]
     },
     "metadata": {},
     "output_type": "display_data"
    }
   ],
   "source": [
    "plt.rcParams['figure.figsize'] = [15,10]\n",
    "\n",
    "plt.subplot(2,3,1)\n",
    "cm=confusion_matrix(Y_test,Y_predmod1)\n",
    "plt.title(\"Linear Regression\")\n",
    "fg=sn.heatmap(cm,annot=True,cmap='Reds')\n",
    "figure = fg.get_figure()\n",
    "plt.xlabel(\"Predicted\")\n",
    "plt.ylabel(\"Truth\")\n",
    "\n",
    "plt.subplots_adjust(wspace=1)\n",
    "\n",
    "plt.subplot(2,3,2)\n",
    "cm=confusion_matrix(Y_test,Y_predmod2)\n",
    "plt.title(\"Logistic Regression\")\n",
    "fg=sn.heatmap(cm,annot=True,cmap='Reds')\n",
    "figure = fg.get_figure()\n",
    "plt.xlabel(\"Predicted\")\n",
    "plt.ylabel(\"Truth\")\n",
    "\n",
    "plt.subplots_adjust(wspace=1)\n",
    "\n",
    "plt.subplot(2,3,3)\n",
    "cm=confusion_matrix(Y_test,Y_predmod3)\n",
    "plt.title(\"Desicion Tree\")\n",
    "fg=sn.heatmap(cm,annot=True,cmap='Reds')\n",
    "figure = fg.get_figure()\n",
    "plt.xlabel(\"Predicted\")\n",
    "plt.ylabel(\"Truth\")\n",
    "\n",
    "plt.subplots_adjust(hspace=1)\n",
    "\n",
    "plt.subplot(2,3,4)\n",
    "cm=confusion_matrix(Y_test,Y_predmod4)\n",
    "plt.title(\"Support Vector Machines\")\n",
    "fg=sn.heatmap(cm,annot=True,cmap='Reds')\n",
    "figure = fg.get_figure()\n",
    "plt.xlabel(\"Predicted\")\n",
    "plt.ylabel(\"Truth\")\n",
    "\n",
    "plt.subplots_adjust(wspace=1)\n",
    "\n",
    "plt.subplot(2,3,5)\n",
    "cm=confusion_matrix(Y_test,Y_predmod5)\n",
    "plt.title(\"XGBoost\")\n",
    "fg=sn.heatmap(cm,annot=True,cmap='Reds')\n",
    "figure = fg.get_figure()\n",
    "plt.xlabel(\"Predicted\")\n",
    "plt.ylabel(\"Truth\")\n",
    "\n",
    "\n",
    "plt.subplots_adjust(wspace=1)\n",
    "\n",
    "plt.subplot(2,3,6)\n",
    "cm=confusion_matrix(Y_test,Y_predmod6)\n",
    "plt.title(\"Random Forest\")\n",
    "fg=sn.heatmap(cm,annot=True,cmap='Reds')\n",
    "figure = fg.get_figure()\n",
    "plt.xlabel(\"Predicted\")\n",
    "plt.ylabel(\"Truth\")"
   ]
  },
  {
   "cell_type": "markdown",
   "id": "0faae634",
   "metadata": {},
   "source": [
    "SVM and XG boost Classfiers have an accuracy of 100% which is great for a Machine Learning Model \n",
    "Logistic Regression and Random Forest model are so close to 100% accuracy\n"
   ]
  },
  {
   "cell_type": "markdown",
   "id": "d7d23391",
   "metadata": {},
   "source": [
    "### Predictive System - Detection of Parkisons Disease in an Individual"
   ]
  },
  {
   "cell_type": "markdown",
   "id": "40cb891d",
   "metadata": {},
   "source": [
    "We will now test our model taking some input data,for prediction we also need to check it against some input values given by the user.\n",
    "Lets predict using our best models \n",
    "1. SVM \n",
    "2. XGB"
   ]
  },
  {
   "cell_type": "markdown",
   "id": "ef39503a",
   "metadata": {},
   "source": [
    ">Case 1 : Input Values of Patient having Parkinson, let's see if the model is able to predict or not (USING SVM MODEL)"
   ]
  },
  {
   "cell_type": "code",
   "execution_count": 60,
   "id": "d39db962",
   "metadata": {},
   "outputs": [
    {
     "name": "stdout",
     "output_type": "stream",
     "text": [
      "[1]\n",
      "The patient has Parkinson\n"
     ]
    }
   ],
   "source": [
    "input_data = (95.730,132.068,91.754,0.00551,0.00006,0.00293,0.00332,0.00880,0.02093,0.191,0.01073,0.01277,0.01717,0.03218,0.01070,21.812,0.615551,0.773587,-5.498678,0.327769,2.322511,0.231571)\n",
    "\n",
    "# changing input data to numpy array\n",
    "input_data_numpy = np.asarray(input_data)\n",
    "\n",
    "#reshaping the numpy array \n",
    "input_data_reshape = input_data_numpy.reshape(1,-1)\n",
    "\n",
    "#standardizing the input data \n",
    "std_data = stdscaler.transform(input_data_reshape)\n",
    "\n",
    "## prediction using SVM model\n",
    "prediction = model4.predict(std_data)\n",
    "print(prediction)\n",
    "\n",
    "if (prediction[0] == 1):\n",
    "  print('The patient has Parkinson')\n",
    "elif (prediction[0] == 0):\n",
    "  print('The patient does not have Parkinson')\n",
    "else:\n",
    "  print('Invalid Entry')"
   ]
  },
  {
   "cell_type": "markdown",
   "id": "ff620a45",
   "metadata": {},
   "source": [
    "> Case 2 : Input Values of Patient not having Parkinson, let's see if the model is able to predict or not (Using XG boost model)"
   ]
  },
  {
   "cell_type": "code",
   "execution_count": 61,
   "id": "4009f109",
   "metadata": {},
   "outputs": [
    {
     "name": "stdout",
     "output_type": "stream",
     "text": [
      "[0]\n",
      "The patient does not have Parkinson\n"
     ]
    }
   ],
   "source": [
    "#data of a healthy person\n",
    "input_data = (197.07600,206.89600,192.05500,0.00289,0.00001,0.00166,0.00168,0.00498,0.01098,0.09700,0.00563,0.00680,0.00802,0.01689,0.00339,26.77500,0.422229,0.741367,-7.348300,0.177551,1.743867,0.085569)\n",
    "# changing input data to numpy array\n",
    "input_data_numpy = np.asarray(input_data)\n",
    "\n",
    "#reshaping the numpy array \n",
    "input_data_reshape = input_data_numpy.reshape(1,-1)\n",
    "\n",
    "#standardizing the input data \n",
    "std_data = stdscaler.transform(input_data_reshape)\n",
    "\n",
    "## prediction using XG boost model\n",
    "prediction = model5.predict(std_data)\n",
    "print(prediction)\n",
    "\n",
    "if (prediction[0] == 1):\n",
    "  print('The patient has Parkinson')\n",
    "elif (prediction[0] == 0):\n",
    "  print('The patient does not have Parkinson')\n",
    "else:\n",
    "  print('Invalid Entry')"
   ]
  },
  {
   "cell_type": "markdown",
   "id": "b1896311",
   "metadata": {},
   "source": [
    "### Visually compare the performance of all classifiers"
   ]
  },
  {
   "cell_type": "code",
   "execution_count": 72,
   "id": "6974d8b1",
   "metadata": {},
   "outputs": [
    {
     "data": {
      "image/png": "[encoded data removed]",
      "text/plain": [
       "<Figure size 1080x360 with 1 Axes>"
      ]
     },
     "metadata": {},
     "output_type": "display_data"
    }
   ],
   "source": [
    "# Graphically represents the performance of the classification techniques based on their accuracy measures.\n",
    "plt.rcParams['figure.figsize'] = 15,5\n",
    "sn.set(style=\"whitegrid\")\n",
    "ax = sn.barplot(y=\"Models\", x=\"Accuracy\", data=df1)"
   ]
  },
  {
   "cell_type": "markdown",
   "id": "c3d0c834",
   "metadata": {},
   "source": [
    "### CONCLUSION:\n",
    "After using these five classifiers the models Logistic Regression,Random Forest models of accuracy approximately 97% are good models. \n",
    "\n",
    "Decision tree and Linear regression are not recommended for training this dataset. \n",
    "\n",
    "With highest accuracy Support Vector Machine,XG boost of accuracy 100% gives best accurate results in detecting the Parkinson's Disease with the given input"
   ]
  }
 ],
 "metadata": {
  "kernelspec": {
   "display_name": "Python 3",
   "language": "python",
   "name": "python3"
  },
  "language_info": {
   "codemirror_mode": {
    "name": "ipython",
    "version": 3
   },
   "file_extension": ".py",
   "mimetype": "text/x-python",
   "name": "python",
   "nbconvert_exporter": "python",
   "pygments_lexer": "ipython3",
   "version": "3.8.8"
  }
 },
 "nbformat": 4,
 "nbformat_minor": 5
}
